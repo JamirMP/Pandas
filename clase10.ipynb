{
 "cells": [
  {
   "cell_type": "code",
   "execution_count": 15,
   "metadata": {},
   "outputs": [
    {
     "name": "stdout",
     "output_type": "stream",
     "text": [
      "      Equipo   Oponente  Goles anotados  Goles recibidos\n",
      "0  Barcelona    Sevilla               4                1\n",
      "1     Madrid  Barcelona               2                0\n",
      "2    Sevilla     Madrid               4                2\n",
      "3     Madrid    Sevilla               1                1\n",
      "4  Barcelona     Madrid               3                3\n",
      "5    Sevilla  Barcelona               2                0\n",
      "6     Madrid  Barcelona               0                2\n",
      "7  Barcelona    Sevilla               0                3\n"
     ]
    }
   ],
   "source": [
    "import pandas as pd\n",
    "import numpy as np\n",
    "\n",
    "df = pd.DataFrame({\n",
    "    'Equipo':['Barcelona','Madrid','Sevilla','Madrid','Barcelona','Sevilla','Madrid','Barcelona'],\n",
    "    'Oponente':['Sevilla','Barcelona','Madrid','Sevilla','Madrid','Barcelona','Barcelona','Sevilla'],\n",
    "    'Goles anotados': np.random.randint(0,5,size=8),\n",
    "    'Goles recibidos': np.random.randint(0,5,size=8)\n",
    "})\n",
    "\n",
    "print(df)"
   ]
  },
  {
   "cell_type": "markdown",
   "metadata": {},
   "source": [
    "# Creacion de una tabla dinámica"
   ]
  },
  {
   "cell_type": "code",
   "execution_count": 17,
   "metadata": {},
   "outputs": [
    {
     "name": "stdout",
     "output_type": "stream",
     "text": [
      "           Goles anotados  Goles recibidos\n",
      "Equipo                                    \n",
      "Barcelona               7                7\n",
      "Madrid                  3                3\n",
      "Sevilla                 6                2\n"
     ]
    }
   ],
   "source": [
    "pivot_table = df.pivot_table(values=['Goles anotados','Goles recibidos'], index='Equipo', aggfunc='sum')\n",
    "print(pivot_table)"
   ]
  },
  {
   "cell_type": "markdown",
   "metadata": {},
   "source": [
    "# Agregamos una columna para la diferencia de goles"
   ]
  },
  {
   "cell_type": "code",
   "execution_count": 18,
   "metadata": {},
   "outputs": [
    {
     "name": "stdout",
     "output_type": "stream",
     "text": [
      "           Goles anotados  Goles recibidos  Diferencia de goles\n",
      "Equipo                                                         \n",
      "Barcelona               7                7                    0\n",
      "Madrid                  3                3                    0\n",
      "Sevilla                 6                2                    4\n"
     ]
    }
   ],
   "source": [
    "pivot_table['Diferencia de goles'] = pivot_table['Goles anotados'] - pivot_table['Goles recibidos']\n",
    "print(pivot_table)"
   ]
  },
  {
   "cell_type": "markdown",
   "metadata": {},
   "source": [
    "# Usamos la función de agregación mean()"
   ]
  },
  {
   "cell_type": "code",
   "execution_count": 19,
   "metadata": {},
   "outputs": [
    {
     "name": "stdout",
     "output_type": "stream",
     "text": [
      "           Goles anotados\n",
      "Equipo                   \n",
      "Barcelona        2.333333\n",
      "Madrid           1.000000\n",
      "Sevilla          3.000000\n"
     ]
    }
   ],
   "source": [
    "pivot_table=df.pivot_table(values='Goles anotados',index='Equipo',aggfunc='mean')\n",
    "print(pivot_table)"
   ]
  },
  {
   "cell_type": "code",
   "execution_count": 20,
   "metadata": {},
   "outputs": [
    {
     "name": "stdout",
     "output_type": "stream",
     "text": [
      "                     Goles anotados\n",
      "Equipo    Oponente                 \n",
      "Barcelona Madrid                  3\n",
      "          Sevilla                 4\n",
      "Madrid    Barcelona               2\n",
      "          Sevilla                 1\n",
      "Sevilla   Barcelona               2\n",
      "          Madrid                  4\n"
     ]
    }
   ],
   "source": [
    "pivot_table=df.pivot_table(values='Goles anotados',index=['Equipo','Oponente'],aggfunc= 'sum')\n",
    "print(pivot_table)"
   ]
  },
  {
   "cell_type": "code",
   "execution_count": 13,
   "metadata": {},
   "outputs": [
    {
     "name": "stdout",
     "output_type": "stream",
     "text": [
      "      Equipo   Partido  Goles anotados  Goles recibidos\n",
      "0  Barcelona  Partido1               2                1\n",
      "1     Madrid  Partido2               3                1\n",
      "2    Sevilla  Partido3               0                3\n",
      "3  Barcelona  Partido4               4                3\n",
      "4     Madrid  Partido5               4                1\n",
      "5    Sevilla  Partido6               4                3\n",
      "6  Barcelona  Partido7               2                3\n",
      "7     Madrid  Partido8               1                2\n",
      "8    Sevilla  Partido9               2                2\n"
     ]
    }
   ],
   "source": [
    "df=pd.DataFrame({\n",
    "   'Equipo':['Barcelona','Madrid','Sevilla']*3,\n",
    "   'Partido':['Partido' + str(i) for i in range(1,10)],\n",
    "   'Goles anotados': np.random.randint(0,5,size=9),\n",
    "   'Goles recibidos': np.random.randint(0,5,size=9)     \n",
    "})\n",
    "print(df)"
   ]
  },
  {
   "cell_type": "markdown",
   "metadata": {},
   "source": [
    "# Uso del método melt en datos de partidos"
   ]
  },
  {
   "cell_type": "code",
   "execution_count": 12,
   "metadata": {},
   "outputs": [
    {
     "name": "stdout",
     "output_type": "stream",
     "text": [
      "       Equipo   Partido         variable  value\n",
      "0   Barcelona  Partido1   Goles anotados      0\n",
      "1      Madrid  Partido2   Goles anotados      3\n",
      "2     Sevilla  Partido3   Goles anotados      4\n",
      "3   Barcelona  Partido4   Goles anotados      3\n",
      "4      Madrid  Partido5   Goles anotados      4\n",
      "5     Sevilla  Partido6   Goles anotados      1\n",
      "6   Barcelona  Partido7   Goles anotados      1\n",
      "7      Madrid  Partido8   Goles anotados      0\n",
      "8     Sevilla  Partido9   Goles anotados      1\n",
      "9   Barcelona  Partido1  Goles recibidos      2\n",
      "10     Madrid  Partido2  Goles recibidos      4\n",
      "11    Sevilla  Partido3  Goles recibidos      3\n",
      "12  Barcelona  Partido4  Goles recibidos      2\n",
      "13     Madrid  Partido5  Goles recibidos      4\n",
      "14    Sevilla  Partido6  Goles recibidos      4\n",
      "15  Barcelona  Partido7  Goles recibidos      4\n",
      "16     Madrid  Partido8  Goles recibidos      4\n",
      "17    Sevilla  Partido9  Goles recibidos      2\n"
     ]
    }
   ],
   "source": [
    "df_melted = df.melt(id_vars=['Equipo','Partido'],value_vars=['Goles anotados','Goles recibidos'])\n",
    "print(df_melted)"
   ]
  }
 ],
 "metadata": {
  "kernelspec": {
   "display_name": "Python 3",
   "language": "python",
   "name": "python3"
  },
  "language_info": {
   "codemirror_mode": {
    "name": "ipython",
    "version": 3
   },
   "file_extension": ".py",
   "mimetype": "text/x-python",
   "name": "python",
   "nbconvert_exporter": "python",
   "pygments_lexer": "ipython3",
   "version": "3.12.2"
  }
 },
 "nbformat": 4,
 "nbformat_minor": 2
}

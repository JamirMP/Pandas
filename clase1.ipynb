{
 "cells": [
  {
   "cell_type": "markdown",
   "metadata": {},
   "source": [
    "# Introduccion"
   ]
  },
  {
   "cell_type": "code",
   "execution_count": null,
   "metadata": {},
   "outputs": [],
   "source": [
    "import pandas as pd\n",
    "\n",
    "serie = pd.Series([1,2,3,4,5,6,43])\n",
    "#print(serie)"
   ]
  },
  {
   "cell_type": "code",
   "execution_count": 11,
   "metadata": {},
   "outputs": [
    {
     "name": "stdout",
     "output_type": "stream",
     "text": [
      "   nombre  edades\n",
      "0     Ana      89\n",
      "1    Iván      75\n",
      "2  Carlos      96\n"
     ]
    }
   ],
   "source": [
    "datos={\n",
    "    'nombre':['Ana','Iván','Carlos'],\n",
    "    'edades':[89,75,96]\n",
    "}\n",
    "\n",
    "df=pd.DataFrame(datos)\n",
    "\n",
    "print(df)"
   ]
  },
  {
   "cell_type": "markdown",
   "metadata": {},
   "source": [
    "# Cargar CSV"
   ]
  },
  {
   "cell_type": "code",
   "execution_count": 12,
   "metadata": {},
   "outputs": [
    {
     "name": "stdout",
     "output_type": "stream",
     "text": [
      "Index(['isbn13;isbn10;title;subtitle;authors;categories;thumbnail;description;published_year;average_rating;num_pages;ratings_count'], dtype='object')\n"
     ]
    }
   ],
   "source": [
    "dfbooks = pd.read_csv('dataBooks.csv',on_bad_lines='skip')\n",
    "print(dfbooks.columns)"
   ]
  }
 ],
 "metadata": {
  "kernelspec": {
   "display_name": "Python 3",
   "language": "python",
   "name": "python3"
  },
  "language_info": {
   "codemirror_mode": {
    "name": "ipython",
    "version": 3
   },
   "file_extension": ".py",
   "mimetype": "text/x-python",
   "name": "python",
   "nbconvert_exporter": "python",
   "pygments_lexer": "ipython3",
   "version": "3.12.1"
  }
 },
 "nbformat": 4,
 "nbformat_minor": 2
}

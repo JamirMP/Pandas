{
 "cells": [
  {
   "cell_type": "code",
   "execution_count": null,
   "metadata": {},
   "outputs": [],
   "source": [
    "import pandas as pd\n",
    "import numpy as np\n",
    "\n",
    "df1=pd.DataFrame(np.random.randint(1,10,size=(3,2)), columns=list('AB'))\n",
    "\n",
    "df2=pd.DataFrame(np.random.randint(1,10,size=(3,2)), columns=list('AB'))"
   ]
  },
  {
   "cell_type": "markdown",
   "metadata": {},
   "source": [
    "# Suma, resta, multiplicación y división de DataFrames"
   ]
  },
  {
   "cell_type": "code",
   "execution_count": null,
   "metadata": {},
   "outputs": [],
   "source": [
    "df_suma=df1+df2\n",
    "print(df_suma)\n",
    "df_resta=df1-df2\n",
    "print(df_resta)\n",
    "df_multiplicación=df1*df2\n",
    "print(df_multiplicación)\n",
    "df_división=df1/df2\n",
    "print(df_división)"
   ]
  },
  {
   "cell_type": "markdown",
   "metadata": {},
   "source": [
    "# Operaciones aritméticas con escalares"
   ]
  },
  {
   "cell_type": "code",
   "execution_count": null,
   "metadata": {},
   "outputs": [],
   "source": [
    "df3=df1+2\n",
    "print(df3)"
   ]
  },
  {
   "cell_type": "markdown",
   "metadata": {},
   "source": [
    "# Uso de funciones matemáticas de NumPy"
   ]
  },
  {
   "cell_type": "code",
   "execution_count": null,
   "metadata": {},
   "outputs": [],
   "source": [
    "df_sqrt=np.sqrt(df1)\n",
    "print(df_sqrt)"
   ]
  },
  {
   "cell_type": "markdown",
   "metadata": {},
   "source": [
    "# Uso de funciones de agregación"
   ]
  },
  {
   "cell_type": "code",
   "execution_count": null,
   "metadata": {},
   "outputs": [],
   "source": [
    "df4=pd.DataFrame(np.random.randint(1,10,size=(10,4)), columns=list('ABCD'))\n",
    "print(df4)\n",
    "\n",
    "col_A=df4['A'].sum()\n",
    "print(col_A)\n"
   ]
  },
  {
   "cell_type": "markdown",
   "metadata": {},
   "source": [
    "# Uso de la función agg"
   ]
  },
  {
   "cell_type": "code",
   "execution_count": null,
   "metadata": {},
   "outputs": [],
   "source": [
    "df_agg=df4.agg(['sum','mean'])\n",
    "print(df_agg)"
   ]
  },
  {
   "cell_type": "markdown",
   "metadata": {},
   "source": [
    "# Agrupación por columnas"
   ]
  },
  {
   "cell_type": "code",
   "execution_count": null,
   "metadata": {},
   "outputs": [],
   "source": [
    "df=pd.DataFrame(\n",
    "    {\n",
    "        'A':['Perro','Gato','Perro','Gato','Perro','Gato','Perro','Gato'],\n",
    "        'B':['uno','uno','dos','tres','dos','dos','uno','tres'],\n",
    "        'C':np.random.randn(8),\n",
    "        'D':np.random.randn(8)\n",
    "    }\n",
    ")\n",
    "\n",
    "grouped_single=df.groupby(['A','B']).sum()\n",
    "print(grouped_single)\n"
   ]
  },
  {
   "cell_type": "markdown",
   "metadata": {},
   "source": [
    "# Uso de la función agg con groupby"
   ]
  },
  {
   "cell_type": "code",
   "execution_count": null,
   "metadata": {},
   "outputs": [],
   "source": [
    "grouped_agg=df.groupby(['A','B']).agg(['sum','mean'])\n",
    "print(grouped_agg)"
   ]
  }
 ],
 "metadata": {
  "kernelspec": {
   "display_name": "Python 3",
   "language": "python",
   "name": "python3"
  },
  "language_info": {
   "codemirror_mode": {
    "name": "ipython",
    "version": 3
   },
   "file_extension": ".py",
   "mimetype": "text/x-python",
   "name": "python",
   "nbconvert_exporter": "python",
   "pygments_lexer": "ipython3",
   "version": "3.12.1"
  }
 },
 "nbformat": 4,
 "nbformat_minor": 2
}

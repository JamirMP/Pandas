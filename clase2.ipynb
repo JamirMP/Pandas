{
 "cells": [
  {
   "cell_type": "markdown",
   "metadata": {},
   "source": [
    "# Crear un dataframe desde un diccionario"
   ]
  },
  {
   "cell_type": "code",
   "execution_count": null,
   "metadata": {},
   "outputs": [],
   "source": [
    "import pandas as pd\n",
    "\n",
    "datos= {\n",
    "    'Nombre':['Ana','Iván','Pedro','Angela'],\n",
    "    'Edad':[27,23,56,32]\n",
    "}\n",
    "\n",
    "df= pd.DataFrame(datos)\n",
    "#print(df)\n",
    "\n",
    "datos2=[{'Nombre':'Ana','Edad':27},\n",
    "        {'Nombre':'Iván','Edad':23},\n",
    "        {'Nombre':'Pedro','Edad':56},\n",
    "        {'Nombre':'Angela','Edad':32}\n",
    "       ]\n",
    "df2 =pd.DataFrame(datos2)\n",
    "print(df2)"
   ]
  },
  {
   "cell_type": "markdown",
   "metadata": {},
   "source": [
    "# Crear un datframe desde numpy"
   ]
  },
  {
   "cell_type": "code",
   "execution_count": null,
   "metadata": {},
   "outputs": [],
   "source": [
    "import numpy as np\n",
    "import pandas as pd\n",
    "\n",
    "dato=np.array([[1,2,3],[4,5,6]])\n",
    "\n",
    "df3= pd.DataFrame(dato)\n",
    "print(df3)"
   ]
  },
  {
   "cell_type": "markdown",
   "metadata": {},
   "source": [
    "# Cargar CSV"
   ]
  },
  {
   "cell_type": "code",
   "execution_count": null,
   "metadata": {},
   "outputs": [],
   "source": [
    "codes=pd.read_csv('csv2024.csv')\n",
    "print(codes.head())"
   ]
  },
  {
   "cell_type": "markdown",
   "metadata": {},
   "source": [
    "# Cargar xlsx"
   ]
  },
  {
   "cell_type": "code",
   "execution_count": null,
   "metadata": {},
   "outputs": [],
   "source": [
    "apple=pd.read_excel('apple_quality.xlsx')\n",
    "print(apple)"
   ]
  },
  {
   "cell_type": "markdown",
   "metadata": {},
   "source": [
    "# Seleccionar columnas"
   ]
  },
  {
   "cell_type": "code",
   "execution_count": null,
   "metadata": {},
   "outputs": [],
   "source": [
    "#print(apple['Size'])\n",
    "print(apple.select_dtypes(include='object'))"
   ]
  },
  {
   "cell_type": "markdown",
   "metadata": {},
   "source": [
    "# Añadir columnas"
   ]
  },
  {
   "cell_type": "code",
   "execution_count": null,
   "metadata": {},
   "outputs": [],
   "source": [
    "apple['Color']='Rojo'\n",
    "print(apple)"
   ]
  },
  {
   "cell_type": "markdown",
   "metadata": {},
   "source": [
    "# Eliminar columnas"
   ]
  },
  {
   "cell_type": "code",
   "execution_count": null,
   "metadata": {},
   "outputs": [],
   "source": [
    "#apple=apple.drop('Color',axis=1)\n",
    "print(apple.columns)"
   ]
  },
  {
   "cell_type": "markdown",
   "metadata": {},
   "source": [
    "# Ordenar columnas"
   ]
  },
  {
   "cell_type": "code",
   "execution_count": null,
   "metadata": {},
   "outputs": [],
   "source": [
    "apple=apple[['Size', 'A_id', 'Weight', 'Sweetness', 'Crunchiness', 'Juiciness','Ripeness', 'Acidity', 'Quality']]\n",
    "print(apple)"
   ]
  },
  {
   "cell_type": "markdown",
   "metadata": {},
   "source": [
    "# Imprimir cierta cantidad de columnas"
   ]
  },
  {
   "cell_type": "code",
   "execution_count": null,
   "metadata": {},
   "outputs": [],
   "source": [
    "primeras3=apple.iloc[:,2:5]\n",
    "print(primeras3)"
   ]
  },
  {
   "cell_type": "markdown",
   "metadata": {},
   "source": [
    "# Imprimir cierta cantidad de filas"
   ]
  },
  {
   "cell_type": "code",
   "execution_count": null,
   "metadata": {},
   "outputs": [],
   "source": [
    "primeras5=apple.iloc[:6,:]\n",
    "print(primeras5)"
   ]
  },
  {
   "cell_type": "markdown",
   "metadata": {},
   "source": [
    "# Seleccionar columnas que empiecen con una letra"
   ]
  },
  {
   "cell_type": "code",
   "execution_count": null,
   "metadata": {},
   "outputs": [],
   "source": [
    "print(apple)\n",
    "conS= apple.loc[:,apple.columns.str.startswith('S')]\n",
    "print(conS)"
   ]
  },
  {
   "cell_type": "markdown",
   "metadata": {},
   "source": [
    "# Seleccionar cualquier fila en particular"
   ]
  },
  {
   "cell_type": "code",
   "execution_count": null,
   "metadata": {},
   "outputs": [],
   "source": [
    "print(apple.iloc[500])"
   ]
  },
  {
   "cell_type": "markdown",
   "metadata": {},
   "source": [
    "# Seleccionar valores de una columna por condición"
   ]
  },
  {
   "cell_type": "code",
   "execution_count": null,
   "metadata": {},
   "outputs": [],
   "source": [
    "#print(apple)\n",
    "mayora1=apple[apple['Sweetness'] > 6]\n",
    "print(mayora1['Sweetness'])"
   ]
  },
  {
   "cell_type": "markdown",
   "metadata": {},
   "source": [
    "# Añadir un fila"
   ]
  },
  {
   "cell_type": "code",
   "execution_count": null,
   "metadata": {},
   "outputs": [],
   "source": [
    "#print(apple)\n",
    "nuevaf = pd.DataFrame({'Size':-3.970049,'A_id':4001.0,'Weight':-2.512336,'Sweetness':5.346330,'Crunchiness':-1.012009,'Juiciness':1.844900,'Ripeness':0.329840,'Acidity':-0.49159,'Quality':'good'},index=[4001])\n",
    "apple= pd.concat([apple,nuevaf]).reset_index(drop=True)\n",
    "print(apple)"
   ]
  },
  {
   "cell_type": "markdown",
   "metadata": {},
   "source": [
    "# Cambiar nombre a una columna"
   ]
  },
  {
   "cell_type": "code",
   "execution_count": null,
   "metadata": {},
   "outputs": [],
   "source": [
    "'''apple=apple.rename(columns={'Size':'size'})\n",
    "print(apple.columns)\n",
    "apple.columns=['size', 'a_id', 'weight', 'sweetness', 'crunchiness', 'juiciness','ripeness', 'acidity', 'quality']'''\n",
    "apple.columns=apple.columns.str.lower()\n",
    "print(apple.columns)"
   ]
  }
 ],
 "metadata": {
  "kernelspec": {
   "display_name": "Python 3",
   "language": "python",
   "name": "python3"
  },
  "language_info": {
   "codemirror_mode": {
    "name": "ipython",
    "version": 3
   },
   "file_extension": ".py",
   "mimetype": "text/x-python",
   "name": "python",
   "nbconvert_exporter": "python",
   "pygments_lexer": "ipython3",
   "version": "3.12.1"
  }
 },
 "nbformat": 4,
 "nbformat_minor": 2
}
